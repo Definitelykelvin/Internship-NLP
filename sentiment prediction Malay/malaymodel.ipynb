{
 "cells": [
  {
   "cell_type": "code",
   "execution_count": 1,
   "id": "8d6b18a1",
   "metadata": {},
   "outputs": [],
   "source": [
    "import spacy \n",
    "import pandas as pd\n",
    "import re\n",
    "import string\n",
    "import numpy as np"
   ]
  },
  {
   "cell_type": "code",
   "execution_count": 2,
   "id": "0c178600",
   "metadata": {},
   "outputs": [],
   "source": [
    "#load model\n",
    "nlp = spacy.load(\"C:\\\\Users\\\\User\\\\Desktop\\\\kelvin\\\\model\")\n",
    "\n",
    "#punctuation removal\n",
    "punct = string.punctuation"
   ]
  },
  {
   "cell_type": "code",
   "execution_count": 3,
   "id": "8dbb3877",
   "metadata": {
    "scrolled": true
   },
   "outputs": [
    {
     "data": {
      "text/plain": [
       "[('attribute_ruler',\n",
       "  <spacy.pipeline.attributeruler.AttributeRuler at 0x1d2c4225bc8>),\n",
       " ('tagger', <spacy.pipeline.tagger.Tagger at 0x1d2c3a76ca8>),\n",
       " ('lemmatizer', <spacy.pipeline.lemmatizer.Lemmatizer at 0x1d2c4249b88>)]"
      ]
     },
     "execution_count": 3,
     "metadata": {},
     "output_type": "execute_result"
    }
   ],
   "source": [
    "#check pipeline\n",
    "nlp.pipeline"
   ]
  },
  {
   "cell_type": "code",
   "execution_count": 4,
   "id": "514c675e",
   "metadata": {},
   "outputs": [
    {
     "data": {
      "text/html": [
       "<div>\n",
       "<style scoped>\n",
       "    .dataframe tbody tr th:only-of-type {\n",
       "        vertical-align: middle;\n",
       "    }\n",
       "\n",
       "    .dataframe tbody tr th {\n",
       "        vertical-align: top;\n",
       "    }\n",
       "\n",
       "    .dataframe thead th {\n",
       "        text-align: right;\n",
       "    }\n",
       "</style>\n",
       "<table border=\"1\" class=\"dataframe\">\n",
       "  <thead>\n",
       "    <tr style=\"text-align: right;\">\n",
       "      <th></th>\n",
       "      <th>tweets</th>\n",
       "      <th>sentiment</th>\n",
       "    </tr>\n",
       "  </thead>\n",
       "  <tbody>\n",
       "    <tr>\n",
       "      <th>0</th>\n",
       "      <td>Bersatu kita teguh, bercerai kita roboh.</td>\n",
       "      <td>Neutral</td>\n",
       "    </tr>\n",
       "    <tr>\n",
       "      <th>1</th>\n",
       "      <td>semuanya bersatu Bersatu Indonesia Kuat</td>\n",
       "      <td>Neutral</td>\n",
       "    </tr>\n",
       "    <tr>\n",
       "      <th>2</th>\n",
       "      <td>Dulu aku Jenis yang Tak suka sgt tgk mp-mp sho...</td>\n",
       "      <td>Negative</td>\n",
       "    </tr>\n",
       "    <tr>\n",
       "      <th>3</th>\n",
       "      <td>Kini360: Pengamal media Kelantan terima dos pe...</td>\n",
       "      <td>Neutral</td>\n",
       "    </tr>\n",
       "    <tr>\n",
       "      <th>4</th>\n",
       "      <td>Kini360: Sabah lanjutkan PKP 3.0 hingga 28 Jun...</td>\n",
       "      <td>Negative</td>\n",
       "    </tr>\n",
       "  </tbody>\n",
       "</table>\n",
       "</div>"
      ],
      "text/plain": [
       "                                              tweets sentiment\n",
       "0           Bersatu kita teguh, bercerai kita roboh.   Neutral\n",
       "1            semuanya bersatu Bersatu Indonesia Kuat   Neutral\n",
       "2  Dulu aku Jenis yang Tak suka sgt tgk mp-mp sho...  Negative\n",
       "3  Kini360: Pengamal media Kelantan terima dos pe...   Neutral\n",
       "4  Kini360: Sabah lanjutkan PKP 3.0 hingga 28 Jun...  Negative"
      ]
     },
     "execution_count": 4,
     "metadata": {},
     "output_type": "execute_result"
    }
   ],
   "source": [
    "#data preprocessing\n",
    "df = pd.read_csv(\"C:/Users/User/Desktop/twitter1.csv\")\n",
    "df['tweets'] = df['tweets'].astype(str)\n",
    "df.head()"
   ]
  },
  {
   "cell_type": "code",
   "execution_count": 23,
   "id": "4769374b",
   "metadata": {},
   "outputs": [
    {
     "data": {
      "text/plain": [
       "<AxesSubplot:xlabel='sentiment', ylabel='count'>"
      ]
     },
     "execution_count": 23,
     "metadata": {},
     "output_type": "execute_result"
    },
    {
     "data": {
      "image/png": "[encoded data removed]",
      "text/plain": [
       "<Figure size 432x288 with 1 Axes>"
      ]
     },
     "metadata": {
      "needs_background": "light"
     },
     "output_type": "display_data"
    }
   ],
   "source": [
    "import seaborn as sns\n",
    "\n",
    "sns.countplot(x='sentiment', data=df)"
   ]
  },
  {
   "cell_type": "markdown",
   "id": "5367c945",
   "metadata": {},
   "source": [
    "positive=df[df['sentiment']=='Positive'].tweets\n",
    "neutral=df[df['sentiment']=='Neutral'].tweets\n",
    "negative=df[df['sentiment']=='Negative'].tweets"
   ]
  },
  {
   "cell_type": "markdown",
   "id": "cac70a3e",
   "metadata": {},
   "source": [
    "positive.astype(str)"
   ]
  },
  {
   "cell_type": "markdown",
   "id": "eaeabffa",
   "metadata": {},
   "source": [
    "import matplotlib.pyplot as plt\n",
    "from wordcloud import WordCloud \n",
    "data_neg = (df['tweets'])[:800000]\n",
    "plt.figure(figsize = (20,20))\n",
    "wc = WordCloud(max_words = 1000 , width = 1600 , height = 800,\n",
    "               collocations=False).generate(\" \".join(positive))\n",
    "plt.imshow(wc)"
   ]
  },
  {
   "cell_type": "code",
   "execution_count": 6,
   "id": "3b170e50",
   "metadata": {},
   "outputs": [],
   "source": [
    "#remove url,mention,hash from the review\n",
    "\n",
    "def cleaning(review):\n",
    "    return re.sub('((www.[^s]+)|(https:t[^s]+)|(http:t[^s]+)|(https://t[^s]+)|(http: t[^s]+)|(https: t[^s]+))|(#.*?(?=\\s|$))|(@.*?(?=\\s|$))',' ',review)\n",
    "\n",
    "#extract hash from review\n",
    "\n",
    "def extracthash(review):\n",
    "    word = re.findall(r'(#.*?(?=\\s|$))',review)\n",
    "    return \" \".join(word)\n",
    "\n",
    "#extract mention from review\n",
    "\n",
    "def extractmention(review):\n",
    "    word = re.findall(r'(@.*?(?=\\s|$))',review)\n",
    "    return \" \".join(word)\n",
    "\n",
    "#remove punctuation\n",
    "def removepunct(review):\n",
    "    return re.sub(r\"[,.;@#?!&$_]+\\ *\", \" \", review)\n",
    "\n",
    "#clean duplicate word\n",
    "def cleanduplicate(review):\n",
    "    return re.sub(r'(.)1+', r'1', review)\n",
    "\n",
    "#clean number\n",
    "def cleannumber(review):\n",
    "    return re.sub('[0-9]+', '', review)"
   ]
  },
  {
   "cell_type": "code",
   "execution_count": 7,
   "id": "42330101",
   "metadata": {},
   "outputs": [
    {
     "data": {
      "text/html": [
       "<div>\n",
       "<style scoped>\n",
       "    .dataframe tbody tr th:only-of-type {\n",
       "        vertical-align: middle;\n",
       "    }\n",
       "\n",
       "    .dataframe tbody tr th {\n",
       "        vertical-align: top;\n",
       "    }\n",
       "\n",
       "    .dataframe thead th {\n",
       "        text-align: right;\n",
       "    }\n",
       "</style>\n",
       "<table border=\"1\" class=\"dataframe\">\n",
       "  <thead>\n",
       "    <tr style=\"text-align: right;\">\n",
       "      <th></th>\n",
       "      <th>tweets</th>\n",
       "      <th>sentiment</th>\n",
       "    </tr>\n",
       "  </thead>\n",
       "  <tbody>\n",
       "    <tr>\n",
       "      <th>0</th>\n",
       "      <td>Bersatu kita teguh bercerai kita roboh</td>\n",
       "      <td>Neutral</td>\n",
       "    </tr>\n",
       "    <tr>\n",
       "      <th>1</th>\n",
       "      <td>semuanya bersatu Bersatu Indonesia Kuat</td>\n",
       "      <td>Neutral</td>\n",
       "    </tr>\n",
       "    <tr>\n",
       "      <th>2</th>\n",
       "      <td>Dulu aku Jenis yang Tak suka sgt tgk mp-mp sho...</td>\n",
       "      <td>Negative</td>\n",
       "    </tr>\n",
       "    <tr>\n",
       "      <th>3</th>\n",
       "      <td>Kini: Pengamal media Kelantan terima dos perta...</td>\n",
       "      <td>Neutral</td>\n",
       "    </tr>\n",
       "    <tr>\n",
       "      <th>4</th>\n",
       "      <td>Kini: Sabah lanjutkan PKP   hingga  Jun</td>\n",
       "      <td>Negative</td>\n",
       "    </tr>\n",
       "  </tbody>\n",
       "</table>\n",
       "</div>"
      ],
      "text/plain": [
       "                                              tweets sentiment\n",
       "0            Bersatu kita teguh bercerai kita roboh    Neutral\n",
       "1            semuanya bersatu Bersatu Indonesia Kuat   Neutral\n",
       "2  Dulu aku Jenis yang Tak suka sgt tgk mp-mp sho...  Negative\n",
       "3  Kini: Pengamal media Kelantan terima dos perta...   Neutral\n",
       "4          Kini: Sabah lanjutkan PKP   hingga  Jun    Negative"
      ]
     },
     "execution_count": 7,
     "metadata": {},
     "output_type": "execute_result"
    }
   ],
   "source": [
    "#create new column\n",
    "\n",
    "df[\"tweets\"] = df[\"tweets\"].apply(lambda review: cleaning(review))\n",
    "df[\"tweets\"] = df[\"tweets\"].apply(lambda review: removepunct(review))\n",
    "df[\"tweets\"] = df[\"tweets\"].apply(lambda review: cleanduplicate(review))\n",
    "df[\"tweets\"] = df[\"tweets\"].apply(lambda review: cleannumber(review))\n",
    "df.head()"
   ]
  },
  {
   "cell_type": "code",
   "execution_count": 133,
   "id": "d674489c",
   "metadata": {},
   "outputs": [],
   "source": [
    "df.to_csv(\"testremove2.csv\",index=False)"
   ]
  },
  {
   "cell_type": "code",
   "execution_count": 144,
   "id": "bdb32c2b",
   "metadata": {},
   "outputs": [],
   "source": [
    "df = df.drop(['mention','hashtag'], axis = 1)"
   ]
  },
  {
   "cell_type": "code",
   "execution_count": 8,
   "id": "d2e539ef",
   "metadata": {},
   "outputs": [
    {
     "data": {
      "text/html": [
       "<div>\n",
       "<style scoped>\n",
       "    .dataframe tbody tr th:only-of-type {\n",
       "        vertical-align: middle;\n",
       "    }\n",
       "\n",
       "    .dataframe tbody tr th {\n",
       "        vertical-align: top;\n",
       "    }\n",
       "\n",
       "    .dataframe thead th {\n",
       "        text-align: right;\n",
       "    }\n",
       "</style>\n",
       "<table border=\"1\" class=\"dataframe\">\n",
       "  <thead>\n",
       "    <tr style=\"text-align: right;\">\n",
       "      <th></th>\n",
       "      <th>tweets</th>\n",
       "      <th>sentiment</th>\n",
       "    </tr>\n",
       "  </thead>\n",
       "  <tbody>\n",
       "    <tr>\n",
       "      <th>0</th>\n",
       "      <td>Bersatu kita teguh bercerai kita roboh</td>\n",
       "      <td>Neutral</td>\n",
       "    </tr>\n",
       "    <tr>\n",
       "      <th>1</th>\n",
       "      <td>semuanya bersatu Bersatu Indonesia Kuat</td>\n",
       "      <td>Neutral</td>\n",
       "    </tr>\n",
       "    <tr>\n",
       "      <th>2</th>\n",
       "      <td>Dulu aku Jenis yang Tak suka sgt tgk mp-mp sho...</td>\n",
       "      <td>Negative</td>\n",
       "    </tr>\n",
       "    <tr>\n",
       "      <th>3</th>\n",
       "      <td>Kini: Pengamal media Kelantan terima dos perta...</td>\n",
       "      <td>Neutral</td>\n",
       "    </tr>\n",
       "    <tr>\n",
       "      <th>4</th>\n",
       "      <td>Kini: Sabah lanjutkan PKP   hingga  Jun</td>\n",
       "      <td>Negative</td>\n",
       "    </tr>\n",
       "    <tr>\n",
       "      <th>...</th>\n",
       "      <td>...</td>\n",
       "      <td>...</td>\n",
       "    </tr>\n",
       "    <tr>\n",
       "      <th>1004</th>\n",
       "      <td>Kerajaan kita bukan serba boleh tapi serba bod...</td>\n",
       "      <td>Negative</td>\n",
       "    </tr>\n",
       "    <tr>\n",
       "      <th>1005</th>\n",
       "      <td>Sudah sudah la kak mas woi Kamu tahu tak semua...</td>\n",
       "      <td>Negative</td>\n",
       "    </tr>\n",
       "    <tr>\n",
       "      <th>1006</th>\n",
       "      <td>Nape nak kena tampal gambar Dia pulak Guna dui...</td>\n",
       "      <td>Negative</td>\n",
       "    </tr>\n",
       "    <tr>\n",
       "      <th>1007</th>\n",
       "      <td>Bendera putih tu bukannya nak harap bantuan ke...</td>\n",
       "      <td>Negative</td>\n",
       "    </tr>\n",
       "    <tr>\n",
       "      <th>1008</th>\n",
       "      <td>Menggelabah masing-masing nak beraya kan Lepas...</td>\n",
       "      <td>Negative</td>\n",
       "    </tr>\n",
       "  </tbody>\n",
       "</table>\n",
       "<p>1009 rows × 2 columns</p>\n",
       "</div>"
      ],
      "text/plain": [
       "                                                 tweets sentiment\n",
       "0               Bersatu kita teguh bercerai kita roboh    Neutral\n",
       "1               semuanya bersatu Bersatu Indonesia Kuat   Neutral\n",
       "2     Dulu aku Jenis yang Tak suka sgt tgk mp-mp sho...  Negative\n",
       "3     Kini: Pengamal media Kelantan terima dos perta...   Neutral\n",
       "4             Kini: Sabah lanjutkan PKP   hingga  Jun    Negative\n",
       "...                                                 ...       ...\n",
       "1004  Kerajaan kita bukan serba boleh tapi serba bod...  Negative\n",
       "1005  Sudah sudah la kak mas woi Kamu tahu tak semua...  Negative\n",
       "1006  Nape nak kena tampal gambar Dia pulak Guna dui...  Negative\n",
       "1007  Bendera putih tu bukannya nak harap bantuan ke...  Negative\n",
       "1008  Menggelabah masing-masing nak beraya kan Lepas...  Negative\n",
       "\n",
       "[1009 rows x 2 columns]"
      ]
     },
     "execution_count": 8,
     "metadata": {},
     "output_type": "execute_result"
    }
   ],
   "source": [
    "df"
   ]
  },
  {
   "cell_type": "code",
   "execution_count": 9,
   "id": "5bde63a0",
   "metadata": {},
   "outputs": [],
   "source": [
    "#stopword\n",
    "dfsw = pd.read_csv(\"C:\\\\Users\\\\User\\\\Desktop\\\\spacy\\\\Untitled Folder\\\\scp_stopwords.csv\")\n",
    "sw=[]\n",
    "for i in range(len(dfsw['stopword'])):\n",
    "    sw.append(dfsw['stopword'][i])\n",
    "    \n",
    "stopwords = list(sw)"
   ]
  },
  {
   "cell_type": "code",
   "execution_count": 10,
   "id": "58632683",
   "metadata": {},
   "outputs": [],
   "source": [
    "#tokenize for text classification\n",
    "def datacleaning(review):\n",
    "    doc=nlp(review)\n",
    "    \n",
    "    tokens = []\n",
    "    for token in doc:\n",
    "        temp = token.lemma_.lower().strip()\n",
    "        tokens.append(temp)\n",
    "    \n",
    "    cleaned_tokens = []\n",
    "    for token in tokens:\n",
    "        if token not in stopwords and token not in punct:\n",
    "            cleaned_tokens.append(token)\n",
    "    return cleaned_tokens"
   ]
  },
  {
   "cell_type": "markdown",
   "id": "99ef0886",
   "metadata": {},
   "source": [
    "df[\"tweets\"] = df[\"tweets\"].apply(lambda review: datacleaning(review))"
   ]
  },
  {
   "cell_type": "markdown",
   "id": "25c6a268",
   "metadata": {},
   "source": [
    "df.to_csv(\"321.csv\")"
   ]
  },
  {
   "cell_type": "markdown",
   "id": "fd406441",
   "metadata": {},
   "source": [
    "df = pd.read_csv(\"321.csv\")\n",
    "df = df.dropna()"
   ]
  },
  {
   "cell_type": "code",
   "execution_count": 12,
   "id": "6ba540ea",
   "metadata": {},
   "outputs": [
    {
     "data": {
      "text/plain": [
       "['unifi',\n",
       " 'tahi',\n",
       " 'terima_kasih',\n",
       " 'bebas',\n",
       " 'umobile',\n",
       " 'laju',\n",
       " 'unifi',\n",
       " 'teruk',\n",
       " 'sapu']"
      ]
     },
     "execution_count": 12,
     "metadata": {},
     "output_type": "execute_result"
    }
   ],
   "source": [
    "datacleaning(\"unifi: tahi terima_kasih bebas umobile laju unifi pukimak menyapu adalah\")"
   ]
  },
  {
   "cell_type": "code",
   "execution_count": 13,
   "id": "61720685",
   "metadata": {},
   "outputs": [],
   "source": [
    "from sklearn.feature_extraction.text import TfidfVectorizer\n",
    "from sklearn.pipeline import Pipeline\n",
    "from sklearn.model_selection import train_test_split\n",
    "from sklearn.metrics import accuracy_score, classification_report, confusion_matrix\n",
    "from sklearn.svm import LinearSVC"
   ]
  },
  {
   "cell_type": "code",
   "execution_count": 14,
   "id": "1448a43a",
   "metadata": {},
   "outputs": [],
   "source": [
    "#vectorization feature engineering(TF-IDF)\n",
    "tfidf = TfidfVectorizer(tokenizer = datacleaning)"
   ]
  },
  {
   "cell_type": "code",
   "execution_count": 15,
   "id": "691e1f00",
   "metadata": {},
   "outputs": [],
   "source": [
    "X = df['tweets']\n",
    "y = df['sentiment']\n",
    "\n",
    "X_train, X_test, y_train, y_test = train_test_split(X,y, test_size = 0.2, random_state =42)"
   ]
  },
  {
   "cell_type": "code",
   "execution_count": 16,
   "id": "18efc759",
   "metadata": {},
   "outputs": [
    {
     "data": {
      "text/plain": [
       "0                 Bersatu kita teguh bercerai kita roboh \n",
       "1                 semuanya bersatu Bersatu Indonesia Kuat\n",
       "2       Dulu aku Jenis yang Tak suka sgt tgk mp-mp sho...\n",
       "3       Kini: Pengamal media Kelantan terima dos perta...\n",
       "4               Kini: Sabah lanjutkan PKP   hingga  Jun  \n",
       "                              ...                        \n",
       "1004    Kerajaan kita bukan serba boleh tapi serba bod...\n",
       "1005    Sudah sudah la kak mas woi Kamu tahu tak semua...\n",
       "1006    Nape nak kena tampal gambar Dia pulak Guna dui...\n",
       "1007    Bendera putih tu bukannya nak harap bantuan ke...\n",
       "1008    Menggelabah masing-masing nak beraya kan Lepas...\n",
       "Name: tweets, Length: 1009, dtype: object"
      ]
     },
     "execution_count": 16,
     "metadata": {},
     "output_type": "execute_result"
    }
   ],
   "source": [
    "X"
   ]
  },
  {
   "cell_type": "code",
   "execution_count": 153,
   "id": "e56e9c53",
   "metadata": {
    "scrolled": false
   },
   "outputs": [
    {
     "data": {
      "text/plain": [
       "((807,), (202,))"
      ]
     },
     "execution_count": 153,
     "metadata": {},
     "output_type": "execute_result"
    }
   ],
   "source": [
    "X_train.shape, X_test.shape"
   ]
  },
  {
   "cell_type": "code",
   "execution_count": 20,
   "id": "30364b8e",
   "metadata": {},
   "outputs": [
    {
     "name": "stdout",
     "output_type": "stream",
     "text": [
      "Accuracy: 0.801980198019802\n"
     ]
    }
   ],
   "source": [
    "from sklearn import svm\n",
    "\n",
    "classifier = LinearSVC()\n",
    "\n",
    "clf = Pipeline([('tfidf', tfidf), ('clf', classifier)])\n",
    "\n",
    "clf.fit(X_train, y_train)\n",
    "\n",
    "y_pred = clf.predict(X_test)\n",
    "\n",
    "print(\"Accuracy:\",accuracy_score(y_test, y_pred))"
   ]
  },
  {
   "cell_type": "code",
   "execution_count": 21,
   "id": "d0cfcb12",
   "metadata": {
    "scrolled": true
   },
   "outputs": [
    {
     "name": "stdout",
     "output_type": "stream",
     "text": [
      "              precision    recall  f1-score   support\n",
      "\n",
      "    Negative       0.85      0.97      0.90       153\n",
      "     Neutral       0.42      0.24      0.30        21\n",
      "    Positive       0.60      0.32      0.42        28\n",
      "\n",
      "    accuracy                           0.80       202\n",
      "   macro avg       0.62      0.51      0.54       202\n",
      "weighted avg       0.77      0.80      0.77       202\n",
      "\n"
     ]
    }
   ],
   "source": [
    "print(classification_report(y_test,y_pred))"
   ]
  },
  {
   "cell_type": "code",
   "execution_count": 22,
   "id": "be1cb2cd",
   "metadata": {},
   "outputs": [
    {
     "name": "stderr",
     "output_type": "stream",
     "text": [
      "C:\\Users\\User\\anaconda3\\envs\\myenv\\lib\\site-packages\\sklearn\\utils\\deprecation.py:87: FutureWarning: Function plot_confusion_matrix is deprecated; Function `plot_confusion_matrix` is deprecated in 1.0 and will be removed in 1.2. Use one of the class methods: ConfusionMatrixDisplay.from_predictions or ConfusionMatrixDisplay.from_estimator.\n",
      "  warnings.warn(msg, category=FutureWarning)\n"
     ]
    },
    {
     "data": {
      "image/png": "[encoded data removed]",
      "text/plain": [
       "<Figure size 432x288 with 2 Axes>"
      ]
     },
     "metadata": {
      "needs_background": "light"
     },
     "output_type": "display_data"
    }
   ],
   "source": [
    "import matplotlib.pyplot as plt\n",
    "from sklearn.metrics import plot_confusion_matrix\n",
    "\n",
    "fig = plot_confusion_matrix(clf, X_test, y_test, display_labels=clf.classes_)\n",
    "fig.figure_.suptitle(\"Confusion Matrix - clf\")\n",
    "plt.show()"
   ]
  },
  {
   "cell_type": "code",
   "execution_count": 157,
   "id": "af40f5a6",
   "metadata": {},
   "outputs": [
    {
     "name": "stdout",
     "output_type": "stream",
     "text": [
      "Klau kau sedekat guna duit kau orang tak persoal ni kau sedekah guna duit kerajaan bodoh duit rakyat bagi la   Prediction=> Negative\n",
      "Hello  Boleh suruh   tu tanggung semua ni Kaut untung Kerajaan pulak nak kena tanggung Wayang apa ni h   Prediction=> Negative\n",
      "Dulu nampak gak divide puak sokong kerajaan puak tak sokong kerajaan Skang takde divide dah Baik orang bandar or   Prediction=> Negative\n",
      "Ahli Parlimen Wangsa Maju anjur kempen pendaftaran pengesahan vaksinasi  sJ Prediction=> Negative\n",
      " study tour kerajaan hindu buddha bukan au tapi mirip au let's go and selamat berimajinasi sLSEG Prediction=> Negative\n",
      "  Ini kebenaran la wahai ketereh memang kerajaan gagal dlm segenap sudut Prediction=> Negative\n",
      "Finally production client terganggu sebab pkp bodoh kerajaan ni Babi  Prediction=> Negative\n",
      "  x pasti jangan kongsi org tgh berkobar dgn cite presiden hang kata pm dari kalangan MP Umno Prediction=> Negative\n",
      "Si khairi tu mmg tak blh prcaya punya org Punyalah dia benci kerajaan Dia akan hasut maki reka cerita Sama m   Prediction=> Negative\n",
      "awok kalau bab politik ni sebenornye maleh nak amik port tapi tulah politik rope gampang rakyat juga jadi mangsanya dEmOkRaSi Prediction=> Negative\n",
      "Harap kerajaan mempertimbangkan moratorium kepada penjawat awam yang membuat pinjaman perumahan melalui LPPSA Ad  ssN Prediction=> Negative\n",
      "NAJIB or SABRI or WHO THE PAHANG UMNO MP GAVE ANWAR SD B PM Shahidan tidak menyatakan siapa MP yg dimaksudkan itu   Prediction=> Negative\n",
      "Mereka yang \"selalu\" memprovokasi masyarakat untuk melawan pemerintah itu lebih membutuhkan batu nisan kalian bukan hidup kalian  Karena mereka mempunyai kepentingan politik untuk menjatuhkan pemerintahan Jokowi melalui pandemi Covid ini agar tidak cepat selesai  Prediction=> Negative\n",
      "  Yg tak guna yg gila kuasa yg asyik ckp rakyat salah yg songlap duit yg tk abis psl politik sumbat je skali Prediction=> Negative\n",
      "Kalau betul pon tak pa Tukar saja Dah kalau undi pon boleh tukar ganti lompat parti Ada pakatan n majoriti dpt b   Prediction=> Negative\n",
      "Nik abduh ni dalam parti sendiri pon buat hal jugak Prediction=> Negative\n",
      "Kenyataan Media YB Menteri Kerajaan Tempatan dan Perumahan dan Menteri Kewangan II Negeri Sabah  Jun  Sumber: Jawatankuasa Pengurusan Bencana COVID Negeri Sabah         Prediction=> Neutral\n",
      "Rampasan dibuat selepas bot ronda yang melaksanakan Op Jaksa di perairan Tanjung Pelepas mengesan bot kayu berkenaan       Prediction=> Negative\n",
      "Gencatan Politik  Prediction=> Negative\n",
      "Kita dah usaha sehabisnya menerusi sosial media Kerajaan dah berusaha menerusi saluran diplomatik utk bela Palestin Tapi Malaysia tak boleh berjuang sendiri Selagi tiada penyatuan dari negara negara Islam lain Sukar kita hendak goncang Israel tu Tekanan ekonomi dan Prediction=> Negative\n",
      "Penat lah tengok rakyat malaysia yg toxic nih Aku nih takdelah sokong kerajaan pun ade je tak suke tapi takde lah   Prediction=> Negative\n",
      "Dah mula dah Masuk keluar mahkamah bgi ahli politik yg tak sebulu dgn kerajaan tu biasa cuba tnya DSAi  Prediction=> Negative\n",
      "Everything is about kuasa untuk parti None untuk rakyat Mereka tak bodoh yer tuan puan Tetapi mereka ZALIM  Prediction=> Negative\n",
      "Memang bodoh ke KERAjaan ni White flag initiative by rakyat pon depa duk takut propaganda jatuhkan depa Kecik dulu makan apa eh Punya la delusional Hampa tu memang bodoh kami buat apa pon takkan hilang bodoh tu dari hampa Bangang abadi bethoolll Prediction=> Negative\n",
      "Astu palsu Dah tau dah Yang kerajaan pulak terbalik Palsu dulu astu betul Sesuai lah korang ni Prediction=> Negative\n",
      "  Kalau mcm ne jd menteri aq pun nak senang je slhkan staff kerajaan atas ke bodohan diri Prediction=> Negative\n",
      "DAWD ni antara anak muda UMNO yang berkaliber berpendidikan tinggi berkepimpinan Tapi dah berapa kali dia masuk   Prediction=> Negative\n",
      "Kerajaan Malaysia dan Kelantan ni bila ja yang tak babi haram jadah Prediction=> Negative\n",
      "alangkah kelakarnya apabila seorang EXCO kerajaan Pahang menuduh kami sengaja mensensasikan kisah seorang tua berjalan kaki ke Klinik Kesihatan Kuala Wau semalam  Prediction=> Negative\n",
      "  Sasaran itu berdasarkan lima strategi yang dirangka kerajaan negeri bersama Badan Bertindak Imunisasi Covid (CITF) yang sedang dan dilaksanakan dalam tempoh terdekat  Prediction=> Positive\n",
      "    Bila pula aku sokong DAP bodoh betul manusia mcm ni Ko kena ingat ko pangkah sap   Prediction=> Negative\n",
      "dah kata dah undi je Parti Ekonomi Kebangsaan   Prediction=> Negative\n",
      "Kini: Sultan Johor: Tak perlu ragu vaksin Covid   Prediction=> Negative\n",
      "Aku dah hilang harapan kat politik malaysia ni Baik lebai pun sama naik juga Mampus la korang semua ni  Prediction=> Negative\n",
      "    Geng Atok  + PN  + Sabah + Swak  + BN  = Prediction=> Negative\n",
      "Cuti tapi tak boleh nak keluar ke mana mana pun Cilake punya kerajaan tak reti buat kerja  Prediction=> Negative\n",
      "Waspada manuver gerakan politik pegawai KPK yang tidak lolos KPK TWK KPK Profesional     Prediction=> Positive\n",
      "Bila aku sembang dgn geng politik isunya vaksin tak cukup je sebab tu lembap Sebab negara lain tak recognised PM   Prediction=> Negative\n",
      "dengan adanya parti baru spt ini saya tukar pendirian untuk mengundi di PRU yang mendatang Mohon PASS letak calon di Parlimen Indera Mahkota Adun SEMAMBU koi sapot aok  Prediction=> Negative\n",
      "Semua ahli politik kat malaysia ni sama je Jaga periuk nasi sendiri bukan rakyat  Prediction=> Negative\n",
      "siotlah drama politik waktu lockdown dah la album kena jual klang lock down aku tak dapat keluar nak beli kek eh dasarrrrrrr Prediction=> Negative\n",
      "Boto tu kak Sey setuju Cumo tu lah Kerajaan sekarang ni bukan kerajaan hasil daripada undi rakyat Ingat dorang   Prediction=> Negative\n",
      "  Parti politik lah kena start dulu Ni tak anuar pun duk diam je hahahahah Prediction=> Negative\n",
      "  Dap tk lompat parti Br kuar gua ke Yg penembak babi dr melaka tu parti apa Perogol diperak parti apa  Prediction=> Negative\n",
      "Ingat dpt hadiah dri kwn dlu utk upcoming birthday ehhh kerajaan hadiahkan PKPD dlu utk birthdayy anciauuu waknattttt Prediction=> Negative\n",
      "  Kalau nk komplen atau kutuk kerajaan kena mention skali blok mana Contoh eh maki bangsat punya kerajaan   Prediction=> Negative\n",
      "  Tutup kilang pelabur akan ugut untuk lari ke negara lain mana berani kerajaan selangor dgn taikun Prediction=> Negative\n",
      "  Mungkin orang ni ado jawapan sebab skrg dia berada dalam kerajaan   Prediction=> Negative\n",
      "    Mmg lah umno pgg lg Aku tak ckp psal parti Aku cuma ckp psal krjaan pahang buat Baik   Prediction=> Negative\n",
      "  Geng pak lebai melayu isley=DAP  say Prediction=> Negative\n",
      "  Kalau ikut kajian stastistik pas pusat sokong terhadap parti pas di kelantan meningkat secara mendid  sYXUa Prediction=> Negative\n",
      "Pusat Vaksinasi COVID di Putrajaya Presint               Prediction=> Negative\n",
      "kalau ada perhimpunan rakyat sumpah aku join sekali waknat punya kerajaan siallllllllllL Prediction=> Negative\n",
      "Politik bangsa yg mcm Tun laung kan mmg target dia untuk org yg mcm kt Padang Rengas ni Si Nazri Aziz Bodoh ni ha   Prediction=> Negative\n",
      "  Isu kat Malaysia ni masalah politik je punca utama Prediction=> Negative\n",
      "Hari raya kedua saya ada temu janji di Midvalley Southkey Johor Bahru Alhamdulilah selesai dos pertama Saya menyeru supaya segenap lapisan masyarakat yang belum mendapat suntikan agar bersedia utk mendapat suntikan  amp hendaklah berkerja sama sebaik mungkin dengan pihak kerajaan   Prediction=> Positive\n",
      "Waspada gerakan politik pegawai KPK gagal TWK TWK KPK Konstitusional     Prediction=> Positive\n",
      "  Nnt ada yg bising knp bagi bersasar lepas tu Kerajaan berbincang lagi Hahahaha Prediction=> Negative\n",
      "Aku fikir kerajaan memang take Covid for granted Masa kes sifar ramai fikir kita dah selamat dari ancaman Covi  srEhIohkH Prediction=> Negative\n",
      "Untuk membantu rakyat tdk perlulah mengira Kuala Kangsar terbahagi tiga atau sepuluh kerana sebagai pemimpin kerajaan PN tanggungjawab anda menjaga seluruh negara bkn menjaga kawasan parlimen anda sahaja  Prediction=> Negative\n",
      "Gago mok ekot masuk  ft under juak lah ya Mok blame SOP lah kerajaan lah apa lah semua sekali benda camtok juak jadi Entingal nar juak  Prediction=> Negative\n",
      "Bendera parti ore isle tu pun ada warna putih  Prediction=> Negative\n",
      "Skrg adalah masanya utk ahli PAS dan UMNO perkukuhkan hubungan Bukan semua ahli UMNO setuju dgn keputusan utk kel   Prediction=> Negative\n",
      "padang rengas tu kawasan kampung semua kena tipu dgn org umno ni  Prediction=> Negative\n",
      "Tindakan terlalu perlahan sehingga ambil masa lama menyebabkan pekebun terbabit kaut keuntungan berjuta-juta tanpa sebarang hasil kepada Kerajaan Pahang - Aktivis alam sekitar       Prediction=> Positive\n",
      "  Kerajaan Selangor duk Dah na Jadi UMNO dah ka duk leka bercakap sajaaa  bantuan belia bantuan tutup   Prediction=> Negative\n",
      "Menteri besar Kedah itu berkata kakitangan agensi kerajaan yang bertugas bekerja siang malam membantu tanpa memand   Prediction=> Positive\n",
      "Kerajaan be like: Buat apa kami nak melabur mahal untuk beri akses pendidikan berkualiti pada anak bangsa Biarkan mereka terus terperangkap dalam kemiskinan supaya kami (ahli politik) boleh berterusan mempergunakan mereka ini semua untuk kepentingan kami  Prediction=> Negative\n",
      "Kerajaan patut buat tindakan segera sekarang Jangan tunggu lagi Jangan tunggu lebih ramai rakyat yg terkorban  Prediction=> Negative\n",
      "Al-kisahnya parti pembangkang pun mati pucuk  Prediction=> Negative\n",
      "KM DAP dan PN Pongpang KM buat hal lagi Pongpang DAP sibuk bekap peneroka musang king hutan Raub  Pongpang DAP Pulau Pinang kedarah air percuma Pongpang DAP Pulau Pinang jarah tanah kampung dan sungai buat ladang babi Anwar anak Pulau Pinang buat buta  shnaC Prediction=> Negative\n",
      "trans - di manakah keselematan di negara ni Setiap hari makin banyak orang mati Setiap pembuktian untuk menunjuk kan kegagalan pemerintahan adalah di larang Setiap kali wakil kerajaan di temu ramah mereka memberikan maklumat yang berbeza  Prediction=> Negative\n",
      "Ni Up Pasal UMNO Ni Sebab Kena Cover Kes Azmin Ke Apa  Prediction=> Negative\n",
      "Bodoh punya web kerajaan Dah terang wife aku update mysejahtera pregnant Tp dpt jugak panggilan Bila dah beratu  sqQTOp Prediction=> Negative\n",
      "  Pergi kk nnti doktor buat surat utk refer hosp kerajaan jugak Nnti dkt hosp terus pergi klinik kulit   Prediction=> Negative\n",
      "        Maybe sebab depa dah tak caya kt Kerajaan kot  tahun kot Takde hasil Maybe la Prediction=> Negative\n",
      "Kerajaan always  kalau nak sambung nanti kene tangkap pula Hm takpe lah Good job lah bf in dream ytjt   Prediction=> Negative\n",
      "Tukar regim umno lebih baik dari cuba hancur kan umno Mybe ini yg sedang Di usahakan  Bila berlaku tukar regim   Prediction=> Negative\n",
      "Selangor diperintah oleh  kerajaan Kerajaan Pusat yang diperintah oleh PN + BN kerajaan Negeri yang diperintah  sPa Prediction=> Negative\n",
      "  Parlimen Bagan Serai: Wan fayshal (Bersatu) DUN Gunung Semanggol (dalam parlimen Bagan Serai): Razman Zakaria (Pas) Kelakor waknat Prediction=> Negative\n",
      "Apa hal Ronnie Liu boleh sampai Pahang Perangai DAP sekor ni memang macam Dia juga yang tiba ada kat Sheraton PJ Februari lepas  Prediction=> Negative\n",
      "  Betul Kerajaan Tak Akan Gagal Untuk Selamat lamanya Wujudnya Kerajaan Melayu MELAKASampai Sekarang Mas   Prediction=> Negative\n",
      "Figura dalam UMNO ni mmg dah tak relevan Puak penyangak sombong disregard to laws etc The reason why aku TERLA   Prediction=> Negative\n",
      "Yang aku tau selalu rentas negeri tolong orang susah ni selalu ebit lew ja Tak sangka DAP pun bagus macam UEL Sanggup rentas negeri pergi pahang bergado dengan polis demi durian  Prediction=> Negative\n",
      "Ramai mungkin anggap karier politik Azmin hampir ke penghujungnya tapi kata pakar Azmin ada peranan penting pada tahun akan datang di kancah politik Malaysia Mungkin tidak di Gombak Parasit jika hos dah tiada dia hanya perlu cari hos baru  Prediction=> Negative\n",
      "Uk bersidang tuk bntu ngra dia pulih dri pandemic Mlysia brsidang tuk tukar kerajaan buat pilihan raya pstu th   Prediction=> Negative\n",
      "Berjuta-juta rakyat berterima kasih pada Najib Korang Syarat puteri Gunung Ledang dibilangnya Siap kecam Najib Akhirnya cubaan claim kredit tanpa berterima kasih pada Najib oleh pemimpin kerajaan PN diketawakan netizen  Prediction=> Negative\n",
      "Kalau UMNO nk berbuat kebaikan or tolong rakyat Buat jeeee Tak yah nk turun naik kan org dulu UMNO buat bagi jad   Prediction=> Negative\n",
      "Never learnt its been  freaking years langgar SOP lepas tu nak salahkan kerajaan Tak pernah nak salahkan diri   Prediction=> Negative\n",
      "Dengar Virus Covid variant baru boleh merebak melalui talian internet Itulah kali alasan kenapa Kongres PKR dimin   Prediction=> Negative\n",
      "dri awal benda ni muncul dh brapa flight aku cancel sebab benda alah ni tau  kerajaan bagi rentas negeri pun still   Prediction=> Negative\n",
      "Baca berita pasal palestin dah lukuh hati + geram baca pulak politik malaysia waktu gawat macam ni campur baur dah   Prediction=> Negative\n",
      "Ketua Bersatu Bahagian Johor Bahru Abdull Bakar Ali berkata sayap Wanita bahagian itu berfungsi seperti biasa untuk berkhidmat kepada masyarakat dan parti  Prediction=> Neutral\n",
      "Sekarang sudah sah UMNO berpecah pemimpin UMNO yg kenyang dapat takhta dan dedak grade A dari Midin sokong Midin t  sEQbbuALu Prediction=> Negative\n",
      "Kerajaan Sarawak beli lambakan  tan nanas di Dalat untuk agihan percuma kepada rakyat  s://t co/iZmEMLAa Prediction=> Positive\n",
      "Kerajaan negeri bersetuju melaksanakan Perintah Kawalan Pergerakan Diperketatkan (PKPD) lima lokaliti melibatkan daerah Tawau Kota Kinabalu Tuaran dan Kota Belud berkuat kuasa Jun hingga  Jun ini  Prediction=> Neutral\n",
      "Kerajaan Sabah kemuka SOP baharu Fasa Satu PPN kepada kerajaan persekutuan - Masidi Manjun Prediction=> Positive\n",
      "Perbadanan Setiausaha Kerajaan: Stop burning the Raub Forest Tiger habitat to grow Durian fruit   Prediction=> Negative\n",
      "Ah tarik balik Kalau geng pembangkang nak join off Kau pun sama aku tentang  Prediction=> Negative\n",
      "Serdang dan Penang tu dah boleh bina hospital kedua Mungkin hospital kedua itu pun penuh Di Penang tanah untuk hospital swasta banyak takkan satu itu tidak boleh untuk hospital kerajaan   Prediction=> Negative\n",
      "semoga lingkup next pru fak umno Prediction=> Negative\n",
      "          Saya bukan nak cakap apa tau Kubu BN memang kuat dekat Muar ni MP Muar yg dulu tu pakcik saya sendiri Saya tau kerja dia mcm mana And after sy sendiri dah berurusan dgn pihak yb saddiq saya sokong apa yg dia buat  Prediction=> Negative\n",
      "  Kenali MB Perak anda Saarani bin Mohammad (UMNO) MP Kota Tampan Perak Ingat nama muka dan parti dia b   Prediction=> Negative\n",
      "    Terbaik la kerajaan Kelantan Jeles lak aku tengok korang senang dapat air teh o f   Prediction=> Negative\n",
      "Kerajaan tahu tak sekarang ni: - Kes Covid bulan Julai dah   kes -   isi rumah M dah jatuh ke B -  tahun pendidikan pelajar terputus - Ribuan hilang kerja Solusi Kerajaan yang paling lemah ini apa Naikkan pangkat Menteri Kabinet Bijak  Prediction=> Negative\n",
      "Maljl raja bersidang nukan nak tukar leader umno jadi pm dari perak tapi plan bila boleh adkan pru nanti selpas pandemic tamat Prediction=> Negative\n",
      "Politik hospital Tapi yang kena MAKI KUTUK sape Menteri laa apa lagi lol Prediction=> Negative\n",
      "Gabungan Parti Sarawak affirms support for Perikatan Nasional Muhyiddin  s://t co/cylcLkTg Prediction=> Positive\n",
      "KM DAP dan PN Pongpang KM buat hal lagi Pongpang DAP sibuk bekap peneroka musang king hutan Raub  Pongpang   Prediction=> Negative\n",
      "Kerajaan melayu isle Negeri serambi mekah Air bersih  Pattla air kelantan tk jernih Rupanya menyapu jgk Bkn RM  tp RM Juta sCfzkE Prediction=> Negative\n",
      "Kerajaan bodohhhh menyusahkan incompetent semua lahhhhhh Prediction=> Negative\n",
      "Nilah menteri perpaduan negara yang tak tunjuk muka langsung tu Rakyat bersatu padu tapi menteri perpaduan hanya b   Prediction=> Negative\n",
      "    Aku rasa PH lagi malapetaka Nasib skrg kerajaan PN   Prediction=> Negative\n",
      "                                                                                                    Selangor dibawah pemerintahan PH Kes Covid paling bnyk adalah negeri itu Siapa Pengerusi Taskforce Covid depa Bekas Menteri kesihatan PH Nmpk sgt org PH  amp PN tak reti bt kerja  Prediction=> Negative\n",
      "apa komen bekas menteri alam sekitar PH   pasal   ni  Prediction=> Negative\n",
      "Nak tanya semalam pergi tesco kenapa barang electric dia pangkah tak bagi masuk Bukan kerajaan kata dah boleh bukak ke  Prediction=> Negative\n",
      "  Bakal - nakal parti hijau lah kan  Prediction=> Negative\n",
      "sekian ikhlas dari netizen kepada lekned kerajaan  amp org yg pikirkan perut masing je tanpa memikirkan perih hidup   Prediction=> Negative\n",
      "antara kejadian paling penting dalam sejarah politik borneo tapi (macam biasa) tidak diceritakan dalam buku teks sejarah malaysia  Prediction=> Negative\n",
      "Tunku Ismail mahu semua ahli politik khususnya di Johor supaya melakukan genjatan politik untuk sementara dan membe   Prediction=> Negative\n",
      "Ketua AMK Pahang selar tindakan pemimpin Bersatu yang menyifatkan tindakan PH mendesak sidang Parlimen dibuka segera sebagai 'binatang politik'     Prediction=> Negative\n",
      "  Dekat Terengganu kad tu dipanggil Kad Sejahtera Around RM kerajaan peruntukan kpd pengguna kad tu ta   Prediction=> Negative\n",
      "Tak ada pangkat lagi tinggi ke dari yidin tu nak guna kuasa veto gulingkan kerajaan bebal ni Prediction=> Negative\n",
      "Kerajaan negeri akan membuka satu lagi Pusat Pemberian Vaksin (PPV) di Daerah Kampar iaitu di Pusat Kesihatan Kemas Gopeng yang boleh menampung lebih  penerima sehari shtdtZg Prediction=> Positive\n",
      "Kalau la dia sound ahli politik yang langgar SOP menteri yg x f(x) dlm tugas mcm ni kan bagus Prediction=> Negative\n",
      "Kempen PRN tahun lepas   kata rakyat Sabah kena tukar kerajaan Warisan sebab nanti Sabah tertinggal  sUUcUVaH Prediction=> Negative\n",
      "Kerajaan punya bangang tu suda dia tau lockdown seluruh negeri dia buat pula pkpd dekat SelangorOrang orang tua n   Prediction=> Negative\n",
      "Nak muntah la tengok berita pasal politik Balik balik hang lantik aku aku lantik hang Dan aku still takboleh beli   Prediction=> Negative\n",
      "  asal lama kau buat kerajaan ke Prediction=> Negative\n",
      "Umno pun sama la jangan baling batu sembunyi tangan Propaganda cetek ni orang kampung dah ada yang sedar dah Yang masih dok sokong dan terhegeh lagi dengan Kerajaan ni Umno la juga Tak percaya tanya si       Prediction=> Negative\n",
      " spital kerajaan digunakan sepenuhnya untuk merawat pesakit Covi sl Prediction=> Negative\n",
      "  Ni lah hadiah kebodohan pengundi tegar umno/BN padang rengas Padan muka orang padang rengas  Prediction=> Negative\n",
      "Kalau kerajaan Penang still nak teruskan tambak warga Penang kene turun demo tengah laut macam Bali buat dulu untuk         Prediction=> Negative\n",
      "Can anyone teach me how to daftsr undi Pokemak nye kerajaan Prediction=> Negative\n",
      "Kerajaan kita bukan serba boleh tapi serba bodoh bahalol  Prediction=> Negative\n",
      "    paling pun penat janganlah pi conteng kat lori orang pi conteng dekat pejabat kerajaan ke Prediction=> Negative\n",
      " sop mkn durian ya dikhabarkan geng politik bersatu Johor   Prediction=> Negative\n",
      "  dari Hang Tuah ke Feri Pulau Pinang kera jaan BN  amp PN tak pernah jaga warisan negeri ubah sejarah sesuka hati   Prediction=> Negative\n",
      "  Patut pun PAS tak puas hati dengan DAP DAP beli no plate Kelantan  Prediction=> Negative\n",
      "Perjuangan Kita Untuk Rakyat Parti Kita   Keluarga Kita    amp The picture of  smmzfdq Prediction=> Negative\n",
      "  Kerajaan Perak mensasarkan  individu di Kinta akan menerima vaksin menjelang hujung tahun ini sebaik Pusat Pemberian Vaksin (PPV) secara pandu lalu di Stadium Indera Mulia mula beroperasi esok /)   Prediction=> Negative\n",
      "TERKINI | EXCO Selangor Ng Sze Han menegaskan lesen operasi kilang oleh PBT tertakluk di bawah Akta Kerajaan Tempa   Prediction=> Negative\n",
      "SPRM dan PDRM perlu siasat sampai ke akar umbi Mereka yang bersalah perlu dibawa ke muka pengadilan biarpun jika melibatkan kerabat raja jika ada apatah lagi pimpinan parti  Prediction=> Negative\n",
      "PKP lagi ke tak Lembab la kerajaan ni Ingat orang lain xde rancangan ke untuk masa depan Prediction=> Negative\n",
      "        Pagoh ye dah takde sapa pertikai tapi masa tu yg mengundi satu Malaya bukan undi Muhyiddin jadi PM jauh sekali undi untuk dia tubuh kerajaan dgn warna biru  amp hijau Prediction=> Negative\n",
      "Kalau Takiyuddin kata kerajaan nak buka Parlimen Sept ini tak perlulah YDP Agung dan Raja Melayu adakan Mesyuarat   Prediction=> Negative\n",
      "  Tidak tahan lama Kita akan tahu bila Azmin balik dari luar Negeri Kalau bukan Kepintaran Azmin mana PN dapat jadi kerajaan  Prediction=> Negative\n",
      "Komen Nik Abduh menyusuli gesaan Timbalan Pengerusi Umno Johor Nur Jazlan Mohamed yang mahu partinya menamatkan kerjasama dengan PAS dengan berkata Umno tidak lagi boleh mengharapkan parti Islam itu bersikap ikhlas sebagai sekutu dalam MN  Prediction=> Negative\n",
      "Covid: KKM tubuh pasukan bertindak khas 'Lembah Klang Besar' - Dr Adham  sCeUk     Prediction=> Positive\n",
      "    Kita tunggu Darurat habis Ogos ni akan digantikan dengan Kerajaan Baharu sp Prediction=> Negative\n",
      "HEI CINA UMNO BABI ANAK HARAM ISLAM NEGERI  PERAK CHIP JPN Tutup Kel aku Bunuh Cina Mati' Mykad     Prediction=> Negative\n",
      "Penamatan PKPD di Sabah Sumber: Kenyataan Media Harian Kerajaan Negeri Sabah Julai    Prediction=> Neutral\n",
      "Disebbkan vaccination case makin hari makin bagus tak semesti nya kerajaan boleh buat taik Memang sial kerajaan   Prediction=> Negative\n",
      " Kawasan yang terlibat dengan Perintah Kawalan Pergerakan Diperketatkan (PKPD) bermula  Jun sehingga  Julai  Sumber:Kenyataan Media Harian Kerajaan Negeri Sabah Bertarikh  Jun        Prediction=> Neutral\n",
      "sembako di pasar tradisional tidak di kenakan ppn tenang aja Bersatu Lawan Covi   Prediction=> Neutral\n",
      "Cukuplah kerajaan yang bingai Rakyat nak ikut bingai skali dah kenapa  Prediction=> Negative\n",
      "Sebutlah secara terang Demikianlah Kerajaan PN Prediction=> Negative\n",
      "    Maaf saudara Bendera putih ni juga ada naik dibeberapa negeri pembangkang seperti Selan  sIvCB Prediction=> Negative\n",
      "Pesan yg bagus unk pemerintah Jika ingin pandemi segera berakhir mulailah menindak tegas racun yg bertebaran di media sosial termasuk yg keluar dari smpah politik Ayo pak tegas kasian rakyatmu yg jd korban  Prediction=> Negative\n",
      "Dia sorang masuk Bersatu Prediction=> Neutral\n",
      "Waspadai manuver politik yang dilakukan pegawai KPK yang tidak lolos TWK untuk memfitnah pemerintah Bangsa kuat   Prediction=> Negative\n",
      "  bener-bener random isinya dari pas takut dipdkt-in orang sinisin org yg julid ke idol gue sampe kein   Prediction=> Negative\n",
      "  Terengganu masih kekal dua digit InsyaAllah kita turunkan lg hingga satu digit Bersatu teguh bercerai roboh  Prediction=> Neutral\n",
      "  Kerajaan Sabah menetapkan  peratus penjawat awam di negeri ini bekerja dari rumah sepanjang sekatan   Prediction=> Neutral\n",
      "  How to apply for it Mencadangkan di Ampang seperti tiada wakil kerajaan negeri Kami di Flat Seri N   Prediction=> Neutral\n",
      "Emm dap   Prediction=> Negative\n",
      "Misi menjayakan sumbangan kerajaan negeri Kelantan melalui bantuan Jejak Amal Covid Komuniti (JACK) Alhamdulillah   Prediction=> Positive\n",
      "[Video] Hari Sarawak  | Kestabilan politik agenda utama tadbirSarawak  s://t co/NNhaEtm Prediction=> Negative\n",
      "  Kenali Timbalan Menteri Pertanian  Anda Tak kenal maka tak ingat masa PRU akan datang Dato Haji Che Abdullah Mat Nawi (PAS) Ahli Parlimen (MP) Tumpat Kelantan Ingat nama muka dan parti Suwitnya YB Jeles wanita di luar sana Tahniah  Prediction=> Negative\n",
      "Dia dah tak berguna dah cakap elok dengan kerajaan ni Orang baling taik kita berpantun pastu terhegeh main catu   Prediction=> Negative\n",
      "Sory to say hampir semua Agensi Kerajaan Negeri mcm ni tak caya boleh riki negeri lain semacam ada kuota utk   Prediction=> Negative\n",
      "Better la jgk sbb mengaku kesilapan nk compare dgn parti islam paling suci tu apa pn x nk mengaku Benda dh terang  slRt Prediction=> Negative\n",
      "Kalau YB jadi EXCO Kerajaan Negeri Perak sanggupkah YB beri iPhone MacBook Bagi saya tidak mungkindan YB jangan  s Prediction=> Positive\n",
      "Its should be the senior yg jaga adik nke yg buat hartal baru kerajaan cuak sbb semua permanent let choose one   Prediction=> Negative\n",
      "  Lepas tu pakai dap cayin m dual dac mmm sedap teruih orang yg tak stoned teruih boleh stoned Prediction=> Negative\n",
      "Bosan la dengan politik tak matang ni Bantu salah tak bantu salah Aje gilerrr kome Prediction=> Negative\n",
      "tak rasa macam federal offence ke dah layak tarik lesen operasi di Msia dah ni oh lupa duit pasti menang bayar s   Prediction=> Negative\n",
      "Kepada semua rakan Twitter saya merayu supaya anda janganlah undi lagi mana-mana calon dari parti pemerintah sekarang Tolonglah  Prediction=> Negative\n",
      "Sokong Brazil  Brazil Kalah Sokong England  England kalah Sokong Kelantan  Kelantan kalah Sokong Umno  Umno kalah Tak lama lagi mesti PN pun kalah Pembawa suwei Annuar ni  Prediction=> Negative\n",
      "Parti Ikatan Demokratik Malaysia (Muda) menawarkan khidmat guaman percuma kepada mana-mana pihak yang disaman Ahli  suUbX Prediction=> Positive\n",
      "Kemelut Titah DiRaja : Istana Perak beri ingatan keras fungsi Institusi DiRaja dalam pentadbiran kerajaan melalui k   Prediction=> Negative\n",
      "selangor need more ppv i said what i said dah la population banyak gila babi lepastu marah kerajaan negeri sebab la   Prediction=> Negative\n",
      "sy tak pertikai soal politik  saya pertikai soal org pertikai bab makanan Tolong bezakan sejenis tak besyukur bi   Prediction=> Negative\n",
      "Kerajaan negeri bercadang memberi kelonggaran kepada lebih ramai individu terutama mereka yang sudah melengkapkan d   Prediction=> Negative\n",
      "  Saya pon sanggup itupon Kalau xde orang lain YB itu kalau la xde orang lain lagi dalam politik yg sanggup aduyai  Prediction=> Negative\n",
      "    Betul tu bang kerajaan Kelantan kan kerajaan ala-ala Taliban  Prediction=> Negative\n",
      "Aku rasa semua org dah tahu DAP mmg perangai yahudi dari dulu Prediction=> Negative\n",
      "Nak jadi ahli politik la senang kaya Prediction=> Negative\n",
      "    RT   Hajah Bibi MacPherson merupakan antara pelopor wanita di dalam politik Sarawak   Prediction=> Negative\n",
      "Aku selalunya tak layan sangat politik atau ap yang jadi belakang tabir malaysia ni tapi sejak dua menjak ni aku d   Prediction=> Negative\n",
      "Siapa Bagi Kebenaran Adun DAP Dan Rombongan Berkhemah Di Hutan Simpan Tanya Pemuda UMNO Pahang ByAhmad Fansuri M  sPsCBqS Prediction=> Negative\n",
      "    Nanti pergi belajar system kat Johor kay Pejabat Daerah tiada kaitan dengan politik dioran   Prediction=> Negative\n",
      "X : Kau guru Sejarah Tapi kenapa tak involves sangat dengan politik Me : Setiap orang ada ideologi dan pandangan   Prediction=> Negative\n",
      "untuk mensejahterakan rkayat papua oap mendukung sekali Bersatu Lawan Covi   Prediction=> Neutral\n",
      "  kat dunia je diorang selamat  kerajaan berat sebelah  Prediction=> Negative\n",
      "Rakyat hanya disuruh menjaga diri Tapi selama ini Kerajaan Negeri membisu Tidak ada inisiatif dalam membantu raky   Prediction=> Negative\n",
      "  Ni extreme ke melayu jual agama parti ajaran syaitan lps jilat pengkhianat bangsat sial kitab semua   Prediction=> Negative\n",
      "Kahkahkah bersepah akaun may  menyemak konon nak puji tindakan kerajaan Babi punya cytro main taik la sial Prediction=> Negative\n",
      "*PRESIDEN MERASMIKAN MESYUARAT MMSP NEGERI PAHANG* Mac pm Mana Mana Cafe Hall Pahang Presiden Parti Makkal Sakti Malaysia Ybhg Datuk Seri R S Thanenthiran telah merasmikan Mesyuarat MMSP Pahang En Kanesh selaku Pengerusi MMSP Pahang telah turut serta  Prediction=> Positive\n",
      "kes adik Bella ni ada kaitan dgn politik jugak ke  Prediction=> Negative\n",
      " Julai  - Majlis penyerahan sumbangan barang-barang keperluan asas kepada bekas-bekas pemimpin Pemuda UMNO Pul   Prediction=> Neutral\n",
      "petanda yg pandemik covid ni lama lg nak pulih dkt Malaysia ni Wayang politik Malaysia  Prediction=> Negative\n"
     ]
    }
   ],
   "source": [
    "for(sample,pred) in zip(X_test,y_pred):\n",
    "    print(sample,\"Prediction=>\", pred)"
   ]
  },
  {
   "cell_type": "code",
   "execution_count": 162,
   "id": "8b1dc36b",
   "metadata": {},
   "outputs": [
    {
     "data": {
      "text/plain": [
       "array(['Negative'], dtype=object)"
      ]
     },
     "execution_count": 162,
     "metadata": {},
     "output_type": "execute_result"
    }
   ],
   "source": [
    "clf.predict(['UMNO'])"
   ]
  },
  {
   "cell_type": "code",
   "execution_count": 163,
   "id": "23432211",
   "metadata": {},
   "outputs": [
    {
     "data": {
      "text/plain": [
       "Pipeline(steps=[('tfidf',\n",
       "                 TfidfVectorizer(tokenizer=<function datacleaning at 0x000001B3C59E26A8>)),\n",
       "                ('nb', MultinomialNB())])"
      ]
     },
     "execution_count": 163,
     "metadata": {},
     "output_type": "execute_result"
    }
   ],
   "source": [
    "from sklearn.naive_bayes import MultinomialNB\n",
    "classifier1 = MultinomialNB()\n",
    "\n",
    "nb = Pipeline([('tfidf', tfidf), ('nb', classifier1)])\n",
    "nb.fit(X_train,y_train)"
   ]
  },
  {
   "cell_type": "code",
   "execution_count": 164,
   "id": "57fc71fe",
   "metadata": {},
   "outputs": [],
   "source": [
    "y_pred = nb.predict(X_test)"
   ]
  },
  {
   "cell_type": "code",
   "execution_count": 165,
   "id": "7bbdd552",
   "metadata": {},
   "outputs": [
    {
     "data": {
      "text/plain": [
       "0.7574257425742574"
      ]
     },
     "execution_count": 165,
     "metadata": {},
     "output_type": "execute_result"
    }
   ],
   "source": [
    "accuracy_score(y_pred,y_test)"
   ]
  },
  {
   "cell_type": "code",
   "execution_count": 166,
   "id": "b8374f43",
   "metadata": {},
   "outputs": [
    {
     "name": "stderr",
     "output_type": "stream",
     "text": [
      "C:\\Users\\User\\anaconda3\\envs\\myenv\\lib\\site-packages\\sklearn\\utils\\deprecation.py:87: FutureWarning: Function plot_confusion_matrix is deprecated; Function `plot_confusion_matrix` is deprecated in 1.0 and will be removed in 1.2. Use one of the class methods: ConfusionMatrixDisplay.from_predictions or ConfusionMatrixDisplay.from_estimator.\n",
      "  warnings.warn(msg, category=FutureWarning)\n"
     ]
    },
    {
     "data": {
      "image/png": "[encoded data removed]",
      "text/plain": [
       "<Figure size 432x288 with 2 Axes>"
      ]
     },
     "metadata": {
      "needs_background": "light"
     },
     "output_type": "display_data"
    }
   ],
   "source": [
    "import matplotlib.pyplot as plt\n",
    "from sklearn.metrics import plot_confusion_matrix\n",
    "\n",
    "fig = plot_confusion_matrix(nb, X_test, y_test, display_labels=nb.classes_)\n",
    "fig.figure_.suptitle(\"Confusion Matrix - nb\")\n",
    "plt.show()"
   ]
  },
  {
   "cell_type": "code",
   "execution_count": null,
   "id": "685d1416",
   "metadata": {},
   "outputs": [],
   "source": []
  }
 ],
 "metadata": {
  "kernelspec": {
   "display_name": "p3.7.2",
   "language": "python",
   "name": "myenv"
  },
  "language_info": {
   "codemirror_mode": {
    "name": "ipython",
    "version": 3
   },
   "file_extension": ".py",
   "mimetype": "text/x-python",
   "name": "python",
   "nbconvert_exporter": "python",
   "pygments_lexer": "ipython3",
   "version": "3.7.2"
  }
 },
 "nbformat": 4,
 "nbformat_minor": 5
}
